{
  "nbformat": 4,
  "nbformat_minor": 0,
  "metadata": {
    "colab": {
      "name": "Untitled",
      "provenance": [],
      "authorship_tag": "ABX9TyPuDz2bm6LRNhycbwqMGBW0",
      "include_colab_link": true
    },
    "kernelspec": {
      "name": "python3",
      "display_name": "Python 3"
    },
    "language_info": {
      "name": "python"
    }
  },
  "cells": [
    {
      "cell_type": "markdown",
      "metadata": {
        "id": "view-in-github",
        "colab_type": "text"
      },
      "source": [
        "<a href=\"https://colab.research.google.com/github/pundirdiya898/ML/blob/main/Logistic_Regression_logic_gates.ipynb\" target=\"_parent\"><img src=\"https://colab.research.google.com/assets/colab-badge.svg\" alt=\"Open In Colab\"/></a>"
      ]
    },
    {
      "cell_type": "code",
      "metadata": {
        "id": "U47P4NMmzZVY"
      },
      "source": [
        "from sklearn.linear_model import Perceptron\n",
        "import matplotlib.pyplot as plt\n",
        "import numpy as np\n",
        "from itertools import product"
      ],
      "execution_count": 1,
      "outputs": []
    },
    {
      "cell_type": "code",
      "metadata": {
        "id": "hvOyLnNXzdfF"
      },
      "source": [
        "data1 = [[0,0],[0,1],[1,0],[1,1]]\n",
        "labels1 = [0,0,0,1]"
      ],
      "execution_count": 3,
      "outputs": []
    },
    {
      "cell_type": "markdown",
      "metadata": {
        "id": "cV11R7oN0I9w"
      },
      "source": [
        "Visualization of and data"
      ]
    },
    {
      "cell_type": "code",
      "metadata": {
        "colab": {
          "base_uri": "https://localhost:8080/",
          "height": 265
        },
        "id": "06m6nbOy0SBW",
        "outputId": "bc9f52b9-e6f3-48c0-aacb-084b7d1f21d9"
      },
      "source": [
        "plt.scatter(x = [point[0] for point in data1],\n",
        "            y = [point[1] for point in data1],\n",
        "            c = labels1)\n",
        "plt.show()"
      ],
      "execution_count": 7,
      "outputs": [
        {
          "output_type": "display_data",
          "data": {
            "image/png": "[encoded data removed]",
            "text/plain": [
              "<Figure size 432x288 with 1 Axes>"
            ]
          },
          "metadata": {
            "tags": [],
            "needs_background": "light"
          }
        }
      ]
    },
    {
      "cell_type": "markdown",
      "metadata": {
        "id": "CiFDU6X21tKd"
      },
      "source": [
        "# Building Perceptor "
      ]
    },
    {
      "cell_type": "code",
      "metadata": {
        "colab": {
          "base_uri": "https://localhost:8080/"
        },
        "id": "eteCOdJc1xA7",
        "outputId": "c88565ac-192e-4af2-d84b-52b0b1ebd870"
      },
      "source": [
        "classifier1 = Perceptron(max_iter = 40)\n",
        "classifier1.fit(data1, labels1)\n",
        "print(classifier1.score(data1,labels1))"
      ],
      "execution_count": 10,
      "outputs": [
        {
          "output_type": "stream",
          "text": [
            "1.0\n"
          ],
          "name": "stdout"
        }
      ]
    },
    {
      "cell_type": "markdown",
      "metadata": {
        "id": "fKvROooi3DTk"
      },
      "source": [
        "# Visualizing Precetron "
      ]
    },
    {
      "cell_type": "code",
      "metadata": {
        "colab": {
          "base_uri": "https://localhost:8080/"
        },
        "id": "-KJCXd4_3L83",
        "outputId": "2ebae150-05a0-4461-91cf-31161ad85fc4"
      },
      "source": [
        "print (classifier1.decision_function([[0,0],[1,1],[0.5,0.5]]))"
      ],
      "execution_count": 12,
      "outputs": [
        {
          "output_type": "stream",
          "text": [
            "[-2.  2.  0.]\n"
          ],
          "name": "stdout"
        }
      ]
    },
    {
      "cell_type": "code",
      "metadata": {
        "id": "ZNAR53fh3myr"
      },
      "source": [
        "x_values = np.linspace(0, 1, 100)\n",
        "y_values = np.linspace(0, 1, 100)"
      ],
      "execution_count": null,
      "outputs": []
    }
  ]
}