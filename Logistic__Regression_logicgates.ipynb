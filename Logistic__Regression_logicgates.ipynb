{
  "nbformat": 4,
  "nbformat_minor": 0,
  "metadata": {
    "colab": {
      "name": "Logistic _Regression_logicgates",
      "provenance": [],
      "collapsed_sections": [],
      "authorship_tag": "ABX9TyNZ006htEpHJX84P/3Bmj5u",
      "include_colab_link": true
    },
    "kernelspec": {
      "name": "python3",
      "display_name": "Python 3"
    },
    "language_info": {
      "name": "python"
    }
  },
  "cells": [
    {
      "cell_type": "markdown",
      "metadata": {
        "id": "view-in-github",
        "colab_type": "text"
      },
      "source": [
        "<a href=\"https://colab.research.google.com/github/pundirdiya898/ML/blob/main/Logistic__Regression_logicgates.ipynb\" target=\"_parent\"><img src=\"https://colab.research.google.com/assets/colab-badge.svg\" alt=\"Open In Colab\"/></a>"
      ]
    },
    {
      "cell_type": "code",
      "metadata": {
        "id": "U47P4NMmzZVY"
      },
      "source": [
        "from sklearn.linear_model import Perceptron\n",
        "import matplotlib.pyplot as plt\n",
        "import numpy as np\n",
        "from itertools import product"
      ],
      "execution_count": null,
      "outputs": []
    },
    {
      "cell_type": "code",
      "metadata": {
        "id": "hvOyLnNXzdfF"
      },
      "source": [
        "data1 = [[0,0],[0,1],[1,0],[1,1]]\n",
        "labels1 = [0,0,0,1]"
      ],
      "execution_count": null,
      "outputs": []
    },
    {
      "cell_type": "markdown",
      "metadata": {
        "id": "cV11R7oN0I9w"
      },
      "source": [
        "Visualization of and data"
      ]
    },
    {
      "cell_type": "code",
      "metadata": {
        "colab": {
          "base_uri": "https://localhost:8080/",
          "height": 265
        },
        "id": "06m6nbOy0SBW",
        "outputId": "bc9f52b9-e6f3-48c0-aacb-084b7d1f21d9"
      },
      "source": [
        "plt.scatter(x = [point[0] for point in data1],\n",
        "            y = [point[1] for point in data1],\n",
        "            c = labels1)\n",
        "plt.show()"
      ],
      "execution_count": null,
      "outputs": [
        {
          "output_type": "display_data",
          "data": {
            "image/png": "[encoded data removed]",
            "text/plain": [
              "<Figure size 432x288 with 1 Axes>"
            ]
          },
          "metadata": {
            "tags": [],
            "needs_background": "light"
          }
        }
      ]
    },
    {
      "cell_type": "markdown",
      "metadata": {
        "id": "CiFDU6X21tKd"
      },
      "source": [
        "# Building Perceptor "
      ]
    },
    {
      "cell_type": "code",
      "metadata": {
        "colab": {
          "base_uri": "https://localhost:8080/"
        },
        "id": "eteCOdJc1xA7",
        "outputId": "c88565ac-192e-4af2-d84b-52b0b1ebd870"
      },
      "source": [
        "classifier1 = Perceptron(max_iter = 40)\n",
        "classifier1.fit(data1, labels1)\n",
        "print(classifier1.score(data1,labels1))"
      ],
      "execution_count": null,
      "outputs": [
        {
          "output_type": "stream",
          "text": [
            "1.0\n"
          ],
          "name": "stdout"
        }
      ]
    },
    {
      "cell_type": "markdown",
      "metadata": {
        "id": "fKvROooi3DTk"
      },
      "source": [
        "# Visualizing Precetron "
      ]
    },
    {
      "cell_type": "code",
      "metadata": {
        "colab": {
          "base_uri": "https://localhost:8080/"
        },
        "id": "-KJCXd4_3L83",
        "outputId": "2ebae150-05a0-4461-91cf-31161ad85fc4"
      },
      "source": [
        "print (classifier1.decision_function([[0,0],[1,1],[0.5,0.5]]))"
      ],
      "execution_count": null,
      "outputs": [
        {
          "output_type": "stream",
          "text": [
            "[-2.  2.  0.]\n"
          ],
          "name": "stdout"
        }
      ]
    },
    {
      "cell_type": "code",
      "metadata": {
        "id": "ZNAR53fh3myr"
      },
      "source": [
        "x_values = np.linspace(0, 1, 100)\n",
        "y_values = np.linspace(0, 1, 100)"
      ],
      "execution_count": null,
      "outputs": []
    },
    {
      "cell_type": "code",
      "metadata": {
        "colab": {
          "base_uri": "https://localhost:8080/"
        },
        "id": "rjT57J754Bks",
        "outputId": "85d6a454-3cd0-46d9-e397-ae75efec5f22"
      },
      "source": [
        "point_grid = list(product(x_values, y_values))\n",
        "\n",
        "\n",
        "# Distance of those points from Decision boundary\n",
        "distances = classifier1.decision_function(point_grid)\n",
        "abs_distance = [abs(dist) for dist in distances]\n",
        "\n",
        "\n",
        "# Reshaping the Distances as scaler 2D array\n",
        "distance_matrix = np.reshape(abs_distance, (100,100))\n",
        "print(distance_matrix)"
      ],
      "execution_count": null,
      "outputs": [
        {
          "output_type": "stream",
          "text": [
            "[[2.         1.97979798 1.95959596 ... 0.04040404 0.02020202 0.        ]\n",
            " [1.97979798 1.95959596 1.93939394 ... 0.02020202 0.         0.02020202]\n",
            " [1.95959596 1.93939394 1.91919192 ... 0.         0.02020202 0.04040404]\n",
            " ...\n",
            " [0.04040404 0.02020202 0.         ... 1.91919192 1.93939394 1.95959596]\n",
            " [0.02020202 0.         0.02020202 ... 1.93939394 1.95959596 1.97979798]\n",
            " [0.         0.02020202 0.04040404 ... 1.95959596 1.97979798 2.        ]]\n"
          ],
          "name": "stdout"
        }
      ]
    },
    {
      "cell_type": "code",
      "metadata": {
        "colab": {
          "base_uri": "https://localhost:8080/",
          "height": 269
        },
        "id": "TbIKGwRD5Acr",
        "outputId": "054af5bb-1496-48e0-dad9-98169f273a69"
      },
      "source": [
        "heatmap = plt.pcolormesh(x_values, \n",
        "                         y_values, \n",
        "                         distance_matrix)\n",
        "\n",
        "plt.colorbar(heatmap)\n",
        "\n",
        "\n",
        "plt.show()"
      ],
      "execution_count": null,
      "outputs": [
        {
          "output_type": "display_data",
          "data": {
            "image/png": "[encoded data removed]",
            "text/plain": [
              "<Figure size 432x288 with 2 Axes>"
            ]
          },
          "metadata": {
            "tags": [],
            "needs_background": "light"
          }
        }
      ]
    },
    {
      "cell_type": "code",
      "metadata": {
        "colab": {
          "base_uri": "https://localhost:8080/",
          "height": 162
        },
        "id": "-089J1DDGk7n",
        "outputId": "d725b034-8062-41b9-df76-23f9e166d808"
      },
      "source": [
        "X = [[0,0], [0,1], [1,0], [1,1]]\n",
        "Y_and = [0, 0, 0, 1]\n",
        "Y_or = [0, 1, 1, 1]\n",
        "Y_xor = [0, 1, 1, 0]\n",
        "\n",
        "titles = (\"AND\", \"OR\", \"XOR\")\n",
        "\n",
        "for i, Y in enumerate([Y_and, Y_or, Y_xor]):\n",
        "  ax = plt.subplot(131 + i)\n",
        "\n",
        "  ax.set_xlim([-0.5, 1.5])\n",
        "  ax.set_ylim([-0.5, 1.5])\n",
        "\n",
        "  ax.set_aspect('equal')\n",
        "\n",
        "  plt.title(titles[i])\n",
        "  plt.scatter(*zip(*X), c=Y)\n",
        "\n",
        "  if i == 0:\n",
        "    plt.plot([0, 1.5], [1.5, 0])\n",
        "  elif i == 1:\n",
        "    plt.plot([-0.5, 1], [1, -0.5])\n",
        "  else:\n",
        "    plt.text(0.5, 0.5, s=\"?\", fontsize=16, ha='center', va='center')\n",
        "\n",
        "plt.tight_layout()"
      ],
      "execution_count": null,
      "outputs": [
        {
          "output_type": "display_data",
          "data": {
            "image/png": "[encoded data removed]",
            "text/plain": [
              "<Figure size 432x288 with 3 Axes>"
            ]
          },
          "metadata": {
            "tags": [],
            "needs_background": "light"
          }
        }
      ]
    }
  ]
}